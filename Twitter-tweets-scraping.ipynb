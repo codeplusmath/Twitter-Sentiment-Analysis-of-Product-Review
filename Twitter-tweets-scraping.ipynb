{
 "cells": [
  {
   "cell_type": "markdown",
   "id": "a75d2ac5",
   "metadata": {},
   "source": [
    "# Twitter tweets scraping"
   ]
  },
  {
   "cell_type": "markdown",
   "id": "272fb9c2",
   "metadata": {},
   "source": [
    "### installing modules"
   ]
  },
  {
   "cell_type": "code",
   "execution_count": 4,
   "id": "8a53ae63",
   "metadata": {},
   "outputs": [
    {
     "name": "stdout",
     "output_type": "stream",
     "text": [
      "Requirement already satisfied: tweepy in e:\\programs\\anaconda\\lib\\site-packages (4.6.0)\n",
      "Requirement already satisfied: requests-oauthlib<2,>=1.2.0 in e:\\programs\\anaconda\\lib\\site-packages (from tweepy) (1.3.0)\n",
      "Requirement already satisfied: requests<3,>=2.27.0 in e:\\programs\\anaconda\\lib\\site-packages (from tweepy) (2.27.1)\n",
      "Requirement already satisfied: oauthlib<4,>=3.2.0 in e:\\programs\\anaconda\\lib\\site-packages (from tweepy) (3.2.0)\n",
      "Requirement already satisfied: charset-normalizer~=2.0.0 in e:\\programs\\anaconda\\lib\\site-packages (from requests<3,>=2.27.0->tweepy) (2.0.12)\n",
      "Requirement already satisfied: certifi>=2017.4.17 in e:\\programs\\anaconda\\lib\\site-packages (from requests<3,>=2.27.0->tweepy) (2020.12.5)\n",
      "Requirement already satisfied: urllib3<1.27,>=1.21.1 in e:\\programs\\anaconda\\lib\\site-packages (from requests<3,>=2.27.0->tweepy) (1.26.4)\n",
      "Requirement already satisfied: idna<4,>=2.5 in e:\\programs\\anaconda\\lib\\site-packages (from requests<3,>=2.27.0->tweepy) (2.10)\n"
     ]
    }
   ],
   "source": [
    "# !python -m pip install tweepy"
   ]
  },
  {
   "cell_type": "markdown",
   "id": "5c6a1d36",
   "metadata": {},
   "source": [
    "### import modules"
   ]
  },
  {
   "cell_type": "code",
   "execution_count": 5,
   "id": "a8898a70",
   "metadata": {},
   "outputs": [
    {
     "name": "stdout",
     "output_type": "stream",
     "text": [
      "Success\n"
     ]
    }
   ],
   "source": [
    "import numpy as np\n",
    "import pandas as pd\n",
    "import json\n",
    "import tweepy as tw\n",
    "print(\"Success\")"
   ]
  },
  {
   "cell_type": "markdown",
   "id": "706aa87b",
   "metadata": {},
   "source": [
    "### scraping"
   ]
  },
  {
   "cell_type": "code",
   "execution_count": 21,
   "id": "90e4865f",
   "metadata": {},
   "outputs": [
    {
     "name": "stdout",
     "output_type": "stream",
     "text": [
      "Enter the serch word: tx\n",
      "Enter no of tweets: 10\n",
      "   id                                              tweet\n",
      "0   0     covered both bases wbu https://t.co/l0phulHdvr\n",
      "1   1           @GregAbbott_TX Freedom to die from Covid\n",
      "2   2  #4870 sold for 0.78 Luna (~$58.73) \\n\\n https:...\n",
      "3   3  @swi_tx Those issues are common with the app, ...\n",
      "4   4  🦜DeFi Pirate #6377 SOLD for 6.75S◎L\\n\\n🏴‍☠️ @c...\n"
     ]
    }
   ],
   "source": [
    "CONSUMER_KEY=\"\"\n",
    "CONSUMER_SECRET_KEY=\"\"\n",
    "ACCESS_KEY=\"\"\n",
    "ACCESS_KEY_SECRET=\"\"\n",
    "\n",
    "auth=tw.OAuthHandler(CONSUMER_KEY,CONSUMER_SECRET_KEY)\n",
    "auth.set_access_token(ACCESS_KEY,ACCESS_KEY_SECRET)\n",
    "\n",
    "api=tw.API(auth)\n",
    "search_words=input(\"Enter the serch word: \")\n",
    "search_words=search_words+\" -filter:retweets\"\n",
    "date_since = \"2021-02-27\"\n",
    "no_of_tweets = int(input(\"Enter no of tweets: \"))\n",
    "#tweets = tw.Cursor(api.search_tweets, q=search_words,lang=\"en\",since=date_since).items(no_of_tweets)\n",
    "tweets = tw.Cursor(api.search_tweets, q=search_words,lang=\"en\").items(no_of_tweets)\n",
    "users_locs=[]\n",
    "for i,tweet in enumerate(tweets):\n",
    "    users_locs.append([i,tweet.text])\n",
    "tweet_text = pd.DataFrame(data=users_locs,columns=['id','tweet'])\n",
    "#tweet_text.columns=['id','tweet']\n",
    "export_csv = tweet_text.to_csv (r'./Scrapping_Data/scrap.csv') \n",
    "print(tweet_text.head())"
   ]
  }
 ],
 "metadata": {
  "kernelspec": {
   "display_name": "Python 3",
   "language": "python",
   "name": "python3"
  },
  "language_info": {
   "codemirror_mode": {
    "name": "ipython",
    "version": 3
   },
   "file_extension": ".py",
   "mimetype": "text/x-python",
   "name": "python",
   "nbconvert_exporter": "python",
   "pygments_lexer": "ipython3",
   "version": "3.8.8"
  }
 },
 "nbformat": 4,
 "nbformat_minor": 5
}
